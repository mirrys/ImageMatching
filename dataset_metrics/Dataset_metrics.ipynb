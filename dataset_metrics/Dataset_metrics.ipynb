{
 "cells": [
  {
   "cell_type": "code",
   "execution_count": 22,
   "id": "loaded-atlantic",
   "metadata": {},
   "outputs": [
    {
     "name": "stdout",
     "output_type": "stream",
     "text": [
      "Populating the interactive namespace from numpy and matplotlib\n"
     ]
    }
   ],
   "source": [
    "%pylab inline"
   ]
  },
  {
   "cell_type": "code",
   "execution_count": 23,
   "id": "impressed-fourth",
   "metadata": {},
   "outputs": [],
   "source": [
    "import pyspark.sql\n",
    "import pandas as pd\n",
    "import os\n",
    "import getpass\n",
    "from pyspark.sql import functions as F"
   ]
  },
  {
   "cell_type": "code",
   "execution_count": 8,
   "id": "deluxe-mailman",
   "metadata": {
    "tags": [
     "parameters"
    ]
   },
   "outputs": [],
   "source": [
    "# Create output directory\n",
    "output_dir = \"Data_Metrics_Output\"\n",
    "if not os.path.exists(output_dir):\n",
    "    os.makedirs(output_dir)\n",
    "\n",
    "snapshot = \"2021-01\"\n",
    "username = getpass.getuser()"
   ]
  },
  {
   "cell_type": "markdown",
   "id": "improving-jonathan",
   "metadata": {},
   "source": [
    "### Total number of records (per wiki)"
   ]
  },
  {
   "cell_type": "code",
   "execution_count": null,
   "id": "engaged-inflation",
   "metadata": {},
   "outputs": [],
   "source": [
    "query = \"\"\"SELECT wiki AS Wiki, snapshot, COUNT(*) as `Number of Records`\n",
    "        FROM gmodena.imagerec_prod\n",
    "        WHERE snapshot='\"\"\"+snapshot+\"\"\"' \n",
    "        GROUP BY wiki, snapshot\n",
    "        ORDER BY wiki\"\"\"\n",
    "total_number_of_records = spark.sql(query).toPandas()"
   ]
  },
  {
   "cell_type": "code",
   "execution_count": null,
   "id": "lucky-vocabulary",
   "metadata": {
    "scrolled": true
   },
   "outputs": [],
   "source": [
    "total_number_of_records"
   ]
  },
  {
   "cell_type": "code",
   "execution_count": null,
   "id": "activated-worker",
   "metadata": {},
   "outputs": [],
   "source": [
    "total_number_of_records.to_csv(output_dir+\"/\"+\"Total number of records\")"
   ]
  },
  {
   "cell_type": "markdown",
   "id": "intimate-penny",
   "metadata": {},
   "source": [
    "### Population statistics"
   ]
  },
  {
   "cell_type": "code",
   "execution_count": null,
   "id": "arabic-casting",
   "metadata": {},
   "outputs": [],
   "source": [
    "population_stat = total_number_of_records['Number of Records'].describe()\n",
    "population_stat.to_csv(output_dir+\"/\"+\"Population statistics\")\n",
    "population_stat"
   ]
  },
  {
   "cell_type": "code",
   "execution_count": null,
   "id": "friendly-leonard",
   "metadata": {},
   "outputs": [],
   "source": [
    "total_number_of_records.boxplot(column=['Number of Records'])"
   ]
  },
  {
   "cell_type": "code",
   "execution_count": null,
   "id": "loose-throw",
   "metadata": {},
   "outputs": [],
   "source": [
    "pop_stat_median = pd.DataFrame(data={\"Median\": [total_number_of_records[\"Number of Records\"].median()]})\n",
    "pop_stat_median.to_csv(output_dir+\"/\"+\"Population statistics median\")\n",
    "pop_stat_median"
   ]
  },
  {
   "cell_type": "code",
   "execution_count": null,
   "id": "neither-coating",
   "metadata": {},
   "outputs": [],
   "source": [
    "pop_stat_mode = total_number_of_records['Number of Records'].mode()\n",
    "pop_stat_mode.to_csv(output_dir+\"/\"+\"Population statistics mode\")\n",
    "pop_stat_mode"
   ]
  },
  {
   "cell_type": "markdown",
   "id": "banner-criticism",
   "metadata": {},
   "source": [
    "### Total number of images per page"
   ]
  },
  {
   "cell_type": "code",
   "execution_count": null,
   "id": "lesbian-angel",
   "metadata": {},
   "outputs": [],
   "source": [
    "query = \"\"\"SELECT wiki AS Wiki, page_id as `Page ID`, COUNT(*) as `Number of Images`\n",
    "        FROM gmodena.imagerec_prod\n",
    "        WHERE snapshot='\"\"\"+snapshot+\"\"\"'\n",
    "        GROUP BY wiki, page_id\n",
    "        ORDER BY wiki, page_id\"\"\"\n",
    "total_number_of_images_per_page = spark.sql(query).toPandas()"
   ]
  },
  {
   "cell_type": "code",
   "execution_count": null,
   "id": "polar-click",
   "metadata": {},
   "outputs": [],
   "source": [
    "total_number_of_images_per_page.to_csv(output_dir+\"/\"+\"Total number of images per page\")\n",
    "total_number_of_images_per_page"
   ]
  },
  {
   "cell_type": "markdown",
   "id": "front-ratio",
   "metadata": {},
   "source": [
    "#### Breakdown of the number of images being suggested for each page"
   ]
  },
  {
   "cell_type": "markdown",
   "id": "awful-stuart",
   "metadata": {},
   "source": [
    "Keep in mind that pages without an image suggestion will apear as 1."
   ]
  },
  {
   "cell_type": "code",
   "execution_count": null,
   "id": "neither-emphasis",
   "metadata": {},
   "outputs": [],
   "source": [
    "query = \"\"\"SELECT number_of_images AS `Image Suggestions`, count(*) AS `Pages`\n",
    "        FROM (\n",
    "        SELECT wiki, page_id, COUNT(*) as number_of_images\n",
    "        FROM gmodena.imagerec_prod\n",
    "        WHERE snapshot='\"\"\"+snapshot+\"\"\"'\n",
    "        GROUP BY wiki, page_id\n",
    "        ) AS expr_qry \n",
    "        GROUP BY number_of_images\n",
    "        ORDER BY number_of_images\"\"\"\n",
    "breakdown_of_image_sug_per_page = spark.sql(query).toPandas()"
   ]
  },
  {
   "cell_type": "code",
   "execution_count": null,
   "id": "assisted-startup",
   "metadata": {
    "scrolled": true
   },
   "outputs": [],
   "source": [
    "breakdown_of_image_sug_per_page.set_index('Image Suggestions', inplace=True)\n",
    "breakdown_of_image_sug_per_page.to_csv(output_dir+\"/\"+\"Breakdown of image sug per page\")\n",
    "breakdown_of_image_sug_per_page"
   ]
  },
  {
   "cell_type": "code",
   "execution_count": null,
   "id": "complicated-delay",
   "metadata": {},
   "outputs": [],
   "source": [
    "breakdown_of_image_sug_per_page.plot(y=\"Pages\",\n",
    "                                     title=\"Breakdown of Images Suggestion Per Page\",\n",
    "                                     autopct=\"%.2f\",\n",
    "                                     figsize=(6, 6),\n",
    "                                     kind=\"pie\");"
   ]
  },
  {
   "cell_type": "markdown",
   "id": "downtown-manner",
   "metadata": {},
   "source": [
    "Breakdown of image suggestion data by confidence rating.\n",
    "A rating of None indicates that the page has no image suggestion"
   ]
  },
  {
   "cell_type": "code",
   "execution_count": null,
   "id": "generic-priority",
   "metadata": {},
   "outputs": [],
   "source": [
    "query = \"\"\"SELECT wiki AS Wiki, confidence_rating AS `Confidence Rating`, COUNT(*) AS `Image Suggestions`\n",
    "        FROM gmodena.imagerec_prod\n",
    "        WHERE snapshot='\"\"\"+snapshot+\"\"\"'\n",
    "        GROUP BY Wiki, `Confidence Rating`\n",
    "        ORDER BY Wiki, `Confidence Rating`\"\"\"\n",
    "breakdown_of_image_sug_by_confidence_score = spark.sql(query).toPandas()"
   ]
  },
  {
   "cell_type": "code",
   "execution_count": null,
   "id": "impressive-failure",
   "metadata": {},
   "outputs": [],
   "source": [
    "breakdown_of_image_sug_by_confidence_score.to_csv(output_dir+\"/\"+\"Breakdown of image sug by conf rating\")\n",
    "breakdown_of_image_sug_by_confidence_score"
   ]
  },
  {
   "cell_type": "markdown",
   "id": "executive-theory",
   "metadata": {},
   "source": [
    "#### Get articles with more than 3 image suggestions\n",
    "\n",
    "Assuming no error this table should be empty"
   ]
  },
  {
   "cell_type": "code",
   "execution_count": null,
   "id": "fiscal-poverty",
   "metadata": {},
   "outputs": [],
   "source": [
    "query = \"\"\"WITH large_image_sug AS \n",
    "        (SELECT wiki, page_id, COUNT(*)\n",
    "        FROM gmodena.imagerec_prod\n",
    "        WHERE snapshot='\"\"\"+snapshot+\"\"\"'\n",
    "        GROUP BY wiki, page_id\n",
    "        HAVING COUNT(*) > 3)\n",
    "        SELECT p.* \n",
    "        FROM gmodena.imagerec_prod p\n",
    "        JOIN large_image_sug\n",
    "        ON large_image_sug.wiki = p.wiki\n",
    "        AND large_image_sug.page_id = p.page_id\n",
    "        AND p.snapshot='\"\"\"+snapshot+\"\"\"'\n",
    "        ORDER BY p.wiki, p.page_id, p.image_id\"\"\"\n",
    "articles_with_more_image_sug = spark.sql(query).toPandas()"
   ]
  },
  {
   "cell_type": "code",
   "execution_count": null,
   "id": "metallic-visibility",
   "metadata": {
    "scrolled": true
   },
   "outputs": [],
   "source": [
    "articles_with_more_image_sug.to_csv(output_dir+\"/\"+\"Articles with more than 3 sug\")\n",
    "articles_with_more_image_sug"
   ]
  },
  {
   "cell_type": "markdown",
   "id": "invalid-trader",
   "metadata": {},
   "source": [
    "### Size and counts of intermediate and final datasets"
   ]
  },
  {
   "cell_type": "code",
   "execution_count": null,
   "id": "integrated-spell",
   "metadata": {},
   "outputs": [],
   "source": [
    "query = \"\"\"SELECT wiki_db AS `Wiki`, snapshot, COUNT(*) AS `Raw Number of Records`\n",
    "        FROM gmodena.imagerec\n",
    "        WHERE snapshot='\"\"\"+snapshot+\"\"\"'\n",
    "        GROUP BY wiki_db, snapshot\n",
    "        ORDER BY wiki_db\"\"\"\n",
    "raw_total_number_of_records = spark.sql(query).toPandas()"
   ]
  },
  {
   "cell_type": "code",
   "execution_count": null,
   "id": "apparent-marble",
   "metadata": {},
   "outputs": [],
   "source": [
    "raw_total_number_of_records"
   ]
  },
  {
   "cell_type": "code",
   "execution_count": null,
   "id": "aquatic-selling",
   "metadata": {},
   "outputs": [],
   "source": [
    "total_number_of_records = total_number_of_records.rename(columns={\"Number of Records\": \"Final Number of Records\"})\n",
    "result = pd.merge(raw_total_number_of_records, total_number_of_records, on=[\"Wiki\", \"snapshot\"])"
   ]
  },
  {
   "cell_type": "code",
   "execution_count": null,
   "id": "supreme-monday",
   "metadata": {},
   "outputs": [],
   "source": [
    "result.to_csv(output_dir+\"/\"+\"Counts of intermediate and final datasets\")\n",
    "result"
   ]
  },
  {
   "cell_type": "code",
   "execution_count": null,
   "id": "green-intellectual",
   "metadata": {},
   "outputs": [],
   "source": [
    "result.plot(x=\"Wiki\",\n",
    "            y=[\"Raw Number of Records\", \"Final Number of Records\"],\n",
    "            title=\"Comparison of intermediate and final number of records\",\n",
    "            figsize=(6, 6),\n",
    "            kind=\"bar\")"
   ]
  },
  {
   "cell_type": "markdown",
   "id": "supposed-nigeria",
   "metadata": {},
   "source": [
    "### Number of articles with and without valid \"instance of\"\n",
    "Todo: Update snapshot and table name to be passed in parameters"
   ]
  },
  {
   "cell_type": "code",
   "execution_count": null,
   "id": "regulation-rental",
   "metadata": {},
   "outputs": [],
   "source": [
    "query = \"\"\"SELECT wiki_db, snapshot,\n",
    "        COUNT(instance_of) AS with_instance_of,\n",
    "        SUM(CASE WHEN instance_of IS NULL then 1 ELSE 0 END) AS without_instance_of\n",
    "        FROM gmodena.imagerec_parquet\n",
    "        WHERE snapshot = '2021-01'\n",
    "        GROUP BY wiki_db, snapshot\n",
    "        ORDER BY wiki_db\"\"\"\n",
    "instance_of_metrics = spark.sql(query).toPandas()"
   ]
  },
  {
   "cell_type": "code",
   "execution_count": null,
   "id": "offensive-underwear",
   "metadata": {},
   "outputs": [],
   "source": [
    "instance_of_metrics.to_csv(output_dir+\"/\"+\"Number of articles with and without valid instance_of\")"
   ]
  },
  {
   "cell_type": "code",
   "execution_count": null,
   "id": "chronic-clothing",
   "metadata": {},
   "outputs": [],
   "source": [
    "### Number of redirect articles \n",
    "Validate that no \"page redirects\" are present in the dataset."
   ]
  },
  {
   "cell_type": "code",
   "execution_count": null,
   "id": "taken-ordinary",
   "metadata": {},
   "outputs": [],
   "source": [
    "query = f\"\"\"\n",
    "        select im.snapshot, count(*) as page_redirect from {username}.imagerec im\n",
    "        join wmf_raw.mediawiki_page as mp\n",
    "        where im.wiki_db = mp.wiki_db\n",
    "        and cast(im.page_id as string) = cast(mp.page_id as string)\n",
    "        and im.snapshot = mp.snapshot\n",
    "        and mp.page_is_redirect = 1\n",
    "        and im.wiki_db != '' and im.snapshot >= \"{snapshot}\"\n",
    "        group by im.snapshot\"\"\"\n",
    "page_redirect = spark.sql(query).toPandas()\n",
    "page_redirect.to_csv(os.path.join(output_dir, \"Page redirects\"))"
   ]
  },
  {
   "cell_type": "markdown",
   "id": "logical-bedroom",
   "metadata": {},
   "source": [
    "### Number of records filtered out"
   ]
  },
  {
   "cell_type": "code",
   "execution_count": null,
   "id": "decreased-scope",
   "metadata": {
    "pycharm": {
     "name": "#%%\n"
    }
   },
   "outputs": [],
   "source": [
    "query = \"\"\"SELECT wiki, snapshot,\n",
    "        SUM(CASE WHEN is_article_page = True THEN 1 ELSE 0 END ) as \"Final number of records\",\n",
    "        SUM(CASE WHEN is_article_page = False THEN 1 ELSE 0 END ) as \"Number of records filtered out\"\n",
    "        FROM {username}.imagerec_prod\n",
    "        GROUP BY wiki, snapshot\"\"\"\n",
    "filtered_out_records = spark.sql(query).toPandas()\n",
    "filtered_out_records.to_csv(output_dir+\"/\"+\"Number of records filtered out\")"
   ]
  },
  {
   "cell_type": "markdown",
   "id": "military-parks",
   "metadata": {},
   "source": [
    "### Distribution of found_on wikis"
   ]
  },
  {
   "cell_type": "code",
   "execution_count": 15,
   "id": "accepting-customer",
   "metadata": {},
   "outputs": [],
   "source": [
    "query = f\"\"\"SELECT wiki, page_id, size(found_on) as num_languages\n",
    "FROM {username}.imagerec_prod\n",
    "WHERE wiki != ''\n",
    "AND snapshot = '{snapshot}'\n",
    "AND source='wikipedia'\n",
    "GROUP BY wiki, page_id, found_on\"\"\"\n",
    "found_on_all_wikis = spark.sql(query)\n",
    "# Summarize data to a frequency count of num_languages\\n\",\n",
    "found_on_freq = found_on_all_wikis.groupby(\"num_languages\").count().toPandas()\n",
    "found_on_freq.to_csv(os.path.join(output_dir, \"found_on frequencies\"))"
   ]
  },
  {
   "cell_type": "code",
   "execution_count": 16,
   "id": "seven-shuttle",
   "metadata": {},
   "outputs": [
    {
     "name": "stdout",
     "output_type": "stream",
     "text": [
      "+-------+-----------------+\n",
      "|summary|    num_languages|\n",
      "+-------+-----------------+\n",
      "|  count|          1844700|\n",
      "|   mean|3.048183444462514|\n",
      "| stddev|4.660658007696105|\n",
      "|    min|                1|\n",
      "|    max|              252|\n",
      "+-------+-----------------+\n",
      "\n"
     ]
    }
   ],
   "source": [
    "found_on_all_wikis.select('num_languages').describe().show()"
   ]
  },
  {
   "cell_type": "code",
   "execution_count": 17,
   "id": "professional-anaheim",
   "metadata": {},
   "outputs": [
    {
     "data": {
      "text/plain": [
       "[102.0]"
      ]
     },
     "execution_count": 17,
     "metadata": {},
     "output_type": "execute_result"
    }
   ],
   "source": [
    "found_on_all_wikis.approxQuantile(\"num_languages\", [0.5], 0.25)"
   ]
  },
  {
   "cell_type": "markdown",
   "id": "acting-thing",
   "metadata": {},
   "source": [
    "#### EDA on found_on"
   ]
  },
  {
   "cell_type": "code",
   "execution_count": 19,
   "id": "artistic-wrist",
   "metadata": {},
   "outputs": [],
   "source": [
    "found_on_freq = found_on_all_wikis.groupby(\"num_languages\").count().toPandas()"
   ]
  },
  {
   "cell_type": "code",
   "execution_count": 20,
   "id": "bronze-stress",
   "metadata": {},
   "outputs": [
    {
     "data": {
      "text/plain": [
       "<matplotlib.axes._subplots.AxesSubplot at 0x7f92b5786f28>"
      ]
     },
     "execution_count": 20,
     "metadata": {},
     "output_type": "execute_result"
    }
   ],
   "source": [
    "found_on_freq['count'].plot(kind='bar', figsize=(30, 20), title=\"Number of languages - frequency distribution\")"
   ]
  },
  {
   "cell_type": "code",
   "execution_count": 26,
   "id": "needed-model",
   "metadata": {},
   "outputs": [
    {
     "data": {
      "text/plain": [
       "<matplotlib.axes._subplots.AxesSubplot at 0x7f92b4ab9390>"
      ]
     },
     "execution_count": 26,
     "metadata": {},
     "output_type": "execute_result"
    },
    {
     "data": {
      "image/png": "[encoded data removed]",
      "text/plain": [
       "<Figure size 432x288 with 1 Axes>"
      ]
     },
     "metadata": {
      "needs_background": "light"
     },
     "output_type": "display_data"
    }
   ],
   "source": [
    "wiki=\"enwiki\"\n",
    "found_on_metrics = found_on_all_wikis.where(F.col('wiki') == wiki).toPandas()\n",
    "cond = found_on_metrics[\"wiki\"] == wiki\n",
    "found_on_metrics[cond].boxplot(\"num_languages\")"
   ]
  },
  {
   "cell_type": "code",
   "execution_count": null,
   "id": "hydraulic-farmer",
   "metadata": {},
   "outputs": [],
   "source": []
  }
 ],
 "metadata": {
  "celltoolbar": "Tags",
  "kernelspec": {
   "display_name": "PySpark - YARN (large)",
   "language": "python",
   "name": "spark_yarn_pyspark_large"
  },
  "language_info": {
   "codemirror_mode": {
    "name": "ipython",
    "version": 3
   },
   "file_extension": ".py",
   "mimetype": "text/x-python",
   "name": "python",
   "nbconvert_exporter": "python",
   "pygments_lexer": "ipython3",
   "version": "3.7.3"
  }
 },
 "nbformat": 4,
 "nbformat_minor": 5
}
